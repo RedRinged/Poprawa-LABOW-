{
  "cells": [
    {
      "attachments": {},
      "cell_type": "markdown",
      "metadata": {
        "id": "rDhH1iZnj9ez"
      },
      "source": [
        "# **Zadanie 1(JAVA)**\n",
        "# Patryk Popławski 82668\n",
        "// Program wyznacza sumę i średnią kolejnych liczb z zakresu (1, ...,100) przy pomocy 10 wątków. Każdy z wątków (0-9) wylicza\n",
        "//sumę i średnią dla 10 kolejnych liczb i wyświetla ją na ekranie"
      ]
    },
    {
      "cell_type": "code",
      "execution_count": null,
      "metadata": {
        "vscode": {
          "languageId": "plaintext"
        }
      },
      "outputs": [],
      "source": [
        "class MyThread extends Thread {\n",
        "    private int threadNum;\n",
        "\n",
        "    public MyThread(int threadNum) {\n",
        "        this.threadNum = threadNum;\n",
        "    }\n",
        "                //Metoda run jest wywołwana gdy wątek jest uruchamiany\n",
        "    public void run() {\n",
        "        int start = threadNum * 10 + 1;\n",
        "        int end = start + 9;\n",
        "        int sum = 0;\n",
        "        int count = 0;\n",
        "                //Pętla w której są wykonywane obliczenia i wywoływane dla każdej z liczb\n",
        "        for (int i = start; i <= end; i++) {\n",
        "            sum += i;\n",
        "            count++;\n",
        "        }\n",
        "                //Metoda run potem wywołuje sumę oraz średnią\n",
        "\n",
        "        System.out.println(\"Raczej wątek\" + threadNum + \"Suma =\" + sum + \" Średnia =\" + (sum / count));\n",
        "    }\n",
        "}"
      ]
    },
    {
      "attachments": {},
      "cell_type": "markdown",
      "metadata": {},
      "source": [
        "# **Zadanie 2 (MPI)**\n",
        "# Patryk Popławski 82668\n",
        "\n",
        "//Program wyznacza sumę i średnią kolejnych liczb z zakresu (1, ...,100) przy pomocy 10 procesów. Każdy z procesów (0-9) wylicza sumę\n",
        "// i średnią dla 10 kolejnych liczb wyświetla ją na ekrnaie oraz pokazuje cząstkowe wyniki do kolejnego proecesu. Ostatni 9-ty proces wylicza globlną sumę i średnią wszystkich liczb"
      ]
    },
    {
      "cell_type": "code",
      "execution_count": null,
      "metadata": {
        "vscode": {
          "languageId": "plaintext"
        }
      },
      "outputs": [],
      "source": [
        "        #include <stdio.h>\n",
        "        #include <mpi.h>\n",
        "\n",
        "        #N 100 #define\n",
        "        #NUMERY_PROCESOW 10 #define\n",
        "\n",
        "                //Inicjalizacja Mpi\n",
        "\n",
        "        int main(int argc, char* argv[]) {\n",
        "        int rank, size;\n",
        "        MPI_Init(&argc, &argv);\n",
        "        MPI_Comm_size(MPI_COMM_WORLD, &size);\n",
        "        MPI_Comm_rank(MPI_COMM_WORLD, &rank);\n",
        "\n",
        "                //Sprawdza czy jest uruchamiany dokładnie, jeśli tak nie jest, program wyświetla printa i kończy działanie.\n",
        "        if (size != NUMERY_PROCESOW) {\n",
        "        printf(\"Program musi być uruchomiony z %d procesem.\\n\", NUMERY_PROCESOW);\n",
        "        MPI_Abort(MPI_COMM_WORLD, 1);\n",
        "        }\n",
        "                //Procesy\n",
        "        int start = rank * 10 + 1;\n",
        "        int end = start + 9;\n",
        "        int sum = 0;\n",
        "        int count = 0;\n",
        "        int partial_sum;\n",
        "        double avg, partial_avg;\n",
        "\n",
        "        for (int i = start; i <= end; i++) {\n",
        "        sum += i;\n",
        "        count++;\n",
        "        }\n",
        "                // Każdy proces wysyła swoje wyniki do następnego procesu ale bez ostatniego, ostatni oblicza wszyskie wyniki i oblicza globalną sumę i średnią\n",
        "        partial_sum = sum;\n",
        "        partial_avg = (double)sum / count;\n",
        "        printf(\"Proces %d: Sum = %d, Average = %lf\\n\", rank, partial_sum, partial_avg);\n",
        "\n",
        "        if (rank != NUMERY_PROCESOW - 1) {\n",
        "        MPI_Send(&partial_sum, 1, MPI_INT, rank + 1, 0, MPI_COMM_WORLD);\n",
        "        MPI_Send(&partial_avg, 1, MPI_DOUBLE, rank + 1, 0, MPI_COMM_WORLD);\n",
        "        } else {\n",
        "        int global_sum = 0;\n",
        "        double global_avg = 0.0;\n",
        "\n",
        "        for (int i = 0; i < NUMERY_PROCESOW - 1; i++) {\n",
        "        MPI_Recv(&partial_sum, 1, MPI_INT, i, 0, MPI_COMM_WORLD, MPI_STATUS_IGNORE);\n",
        "        global_sum += partial_sum;\n",
        "        MPI_Recv(&partial_avg, 1, MPI_DOUBLE, i, 0, MPI_COMM_WORLD, MPI_STATUS_IGNORE);\n",
        "        global_avg += partial_avg;\n",
        "        }\n",
        "\n",
        "        global_avg /= NUMERY_PROCESOW;\n",
        "        printf(\"Proces %d: Globalna Sum = %d, Globalna Sredn = %lf\\n\", rank, global_sum, global_avg);\n",
        "        }\n",
        "\n",
        "        MPI_Finalize();\n",
        "        return 0;\n",
        "        }"
      ]
    },
    {
      "attachments": {},
      "cell_type": "markdown",
      "metadata": {},
      "source": [
        "# **Zadanie 3 (CUDA)**\n",
        "# Patryk Popławski 82668\n",
        "\n",
        "\n",
        "//Program wyznacza sumę i średnią kolejnych liczb z zakresu (1, ...,100) przy pomocy 10 bloków (i 10 wątków w każdym bloku)\n",
        "//Każdy z bloków (0-9) wylicz sumę i średnią dla 10 kolejnych liczb (na device), które są wyśwetlane na hoście.*/"
      ]
    },
    {
      "cell_type": "code",
      "execution_count": null,
      "metadata": {
        "vscode": {
          "languageId": "plaintext"
        }
      },
      "outputs": [],
      "source": [
        "#include <cuda_runtime.h>\n",
        "        #include <stdio.h>\n",
        "\n",
        "        __global__ void sum_mean_kernel(int *data, int *sums, int *counts) \n",
        "                // funkcja jest odpalana na GPU\n",
        "\n",
        "\n",
        "                //Każdy blok jest wyznaczany przez wątki w danym bloku\n",
        "        {\n",
        "        int start = blockIdx.x * blockDim.x;\n",
        "        int end = start + blockDim.x;\n",
        "        int sum = 0;\n",
        "        int count = 0;\n",
        "        for (int i = start; i < end; i++)\n",
        "        {\n",
        "        sum += data[i];\n",
        "        count++;\n",
        "        }\n",
        "        sums[blockIdx.x] = sum;\n",
        "        counts[blockIdx.x] = count;\n",
        "        }\n",
        "                //Funkcja jest wywoływana na hoscie komputerze\n",
        "        int main()\n",
        "        {\n",
        "        const int num_blocks = 10;\n",
        "        const int block_size = 10;\n",
        "        int *data, *sums, *counts;\n",
        "        cudaMalloc((void**)&data, 100 * sizeof(int));\n",
        "        cudaMalloc((void**)&sums, num_blocks * sizeof(int));\n",
        "        cudaMalloc((void**)&counts, num_blocks * sizeof(int));\n",
        "        for (int i = 0; i < 100; i++)\n",
        "        {\n",
        "                //Alokacja pamieci na urządzeniu GPU dla danych wejściowych, sum i liczby.\n",
        "\n",
        "                //Wprowadzanie danych wejściowych do pamięci urządzenia GPU i wywołuje funkcję jądra\n",
        "        data[i] = i + 1;\n",
        "        }\n",
        "        cudaMemcpy(data, data, 100 * sizeof(int), cudaMemcpyHostToDevice);\n",
        "        sum_mean_kernel<<<num_blocks, block_size>>>(data, sums, counts);\n",
        "        cudaMemcpy(sums, sums, num_blocks * sizeof(int), cudaMemcpyDeviceToHost);\n",
        "        cudaMemcpy(counts, counts, num_blocks * sizeof(int), cudaMemcpyDeviceToHost);\n",
        "        for (int i = 0; i < num_blocks; i++)\n",
        "\n",
        "                //Wracanie do hosta po obliczeniach i wyświetlanie sumy oraz średniej z każdego bloku na device\n",
        "        {\n",
        "        int start = i * block_size + 1;\n",
        "        int end = start + block_size - 1;\n",
        "        int sum = sums[i];\n",
        "        int count = counts[i];\n",
        "        float mean = (float)sum / count;\n",
        "        printf(\"Block %d: Sum = %d, Mean = %f\\n\", i, sum, mean);\n",
        "        }\n",
        "        cudaFree(data);\n",
        "        cudaFree(sums);\n",
        "        cudaFree(counts);\n",
        "        return 0;"
      ]
    }
  ],
  "metadata": {
    "colab": {
      "provenance": []
    },
    "kernelspec": {
      "display_name": "Python 3",
      "name": "python3"
    },
    "language_info": {
      "name": "python"
    }
  },
  "nbformat": 4,
  "nbformat_minor": 0
}
